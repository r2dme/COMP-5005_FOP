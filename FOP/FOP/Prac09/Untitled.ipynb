{
 "cells": [
  {
   "cell_type": "code",
   "execution_count": 2,
   "metadata": {},
   "outputs": [
    {
     "name": "stdout",
     "output_type": "stream",
     "text": [
      "9\n",
      "('spam', 'eggs', 42)\n",
      "(1, 4, 9, 16, 25)\n",
      "('yes', 'oui', 'ja', 'si')\n",
      "(1, 4, 9, 16, 25, 'yes', 'oui', 'ja', 'si')\n",
      "(4, 9, 16, 25, 'yes', 'oui', 'ja')\n"
     ]
    }
   ],
   "source": [
    "tup1 = ('spam', 'eggs', 42) \n",
    "tup2 = (1, 4, 9, 16, 25 ) \n",
    "tup3 = \"yes\", \"oui\", \"ja\", \"si\" \n",
    "tup4 = tup2 + tup3\n",
    "\n",
    "\n",
    "print(len(tup4))\n",
    "\n",
    "print(tup1) \n",
    "print(tup2) \n",
    "print(tup3)\n",
    "print(tup4)\n",
    "print(tup4[1:-1])"
   ]
  },
  {
   "cell_type": "code",
   "execution_count": null,
   "metadata": {},
   "outputs": [],
   "source": []
  }
 ],
 "metadata": {
  "kernelspec": {
   "display_name": "Python 3",
   "language": "python",
   "name": "python3"
  },
  "language_info": {
   "codemirror_mode": {
    "name": "ipython",
    "version": 3
   },
   "file_extension": ".py",
   "mimetype": "text/x-python",
   "name": "python",
   "nbconvert_exporter": "python",
   "pygments_lexer": "ipython3",
   "version": "3.6.8"
  }
 },
 "nbformat": 4,
 "nbformat_minor": 2
}
