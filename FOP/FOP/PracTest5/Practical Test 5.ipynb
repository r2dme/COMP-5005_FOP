{
 "cells": [
  {
   "cell_type": "markdown",
   "metadata": {},
   "source": [
    "# Practical Test 5\n",
    "\n",
    "In this test we will be working with some regular expressions to separate out the parts of addresses. \n",
    "\n",
    "Addresses will be in the format:\n",
    "```\n",
    "Number[optional letter] Street_Name, Suburb, Postcode, State\n",
    "```\n",
    "Our sample data is:"
   ]
  },
  {
   "cell_type": "code",
   "execution_count": null,
   "metadata": {
    "collapsed": true
   },
   "outputs": [],
   "source": [
    "addresses = ['1 Infinity Loop, Balga, 6061, WA',\n",
    "            '986 Serpentine Meander, Gosnells, 6110, WA',\n",
    "            '80 Anaconda Drive, Gosnells, 6110, WA',\n",
    "            '10 Salazar Slytherin St, Hogwarts, 3666, VIC',\n",
    "            '10a Cobra St, Dubbo, 2830, NSW',\n",
    "            '100 Cobra St, Secret Harbour, 6830, WA'\n",
    "            '']"
   ]
  },
  {
   "cell_type": "markdown",
   "metadata": {},
   "source": [
    "Format details:\n",
    "- Suburbs will be one or two words\n",
    "- Street names will be one or two single words plus a street type\n",
    "- Postcodes will be 4 digits\n",
    "- States are 2-3 letters\n",
    "- There will be commas and spaces between street, suburb, postcode and state\n",
    "\n",
    "** Below is the starting code to help you with your searching... you can find the meta characters in the lecture slides or online (e.g. https://help.relativity.com/9.3/Content/Relativity/Regular_expressions/Regular_expression_metacharacters.htm)**\n",
    "\n",
    "** Now we want to extend the code below to also extract the street, suburb, postcode and state as separate groups. **\n",
    "\n",
    "** First part of the test... **if your regular expressions are correct, you should see six matched addresses split into number, street, suburb, postcode and state."
   ]
  },
  {
   "cell_type": "code",
   "execution_count": 20,
   "metadata": {},
   "outputs": [
    {
     "name": "stdout",
     "output_type": "stream",
     "text": [
      "Input string:  1 Infinity Loop, Balga, 6061, WA\n",
      "Match positions:  0 32\n",
      "Matching groups:  ('1 Infinity Loop, Balga, 6061, WA', '1', 'Infinity Loop', 'Balga', '6061', 'WA')\n",
      "\n",
      "Input string:  986 Serpentine Meander, Gosnells, 6110, WA\n",
      "Match positions:  0 42\n",
      "Matching groups:  ('986 Serpentine Meander, Gosnells, 6110, WA', '986', 'Serpentine Meander', 'Gosnells', '6110', 'WA')\n",
      "\n",
      "Input string:  80 Anaconda Drive, Gosnells, 6110, WA\n",
      "Match positions:  0 37\n",
      "Matching groups:  ('80 Anaconda Drive, Gosnells, 6110, WA', '80', 'Anaconda Drive', 'Gosnells', '6110', 'WA')\n",
      "\n",
      "Input string:  10 Salazar Slytherin St, Hogwarts, 3666, VIC\n",
      "Match positions:  0 44\n",
      "Matching groups:  ('10 Salazar Slytherin St, Hogwarts, 3666, VIC', '10', 'Salazar Slytherin St', 'Hogwarts', '3666', 'VIC')\n",
      "\n",
      "Input string:  10a Cobra St, Dubbo, 2830, NSW\n",
      "Match positions:  0 30\n",
      "Matching groups:  ('10a Cobra St, Dubbo, 2830, NSW', '10a', 'Cobra St', 'Dubbo', '2830', 'NSW')\n",
      "\n",
      "Input string:  100 Cobra St, Secret Harbour, 6830, WA\n",
      "Match positions:  0 38\n",
      "Matching groups:  ('100 Cobra St, Secret Harbour, 6830, WA', '100', 'Cobra St', 'Secret Harbour', '6830', 'WA')\n",
      "\n"
     ]
    }
   ],
   "source": [
    "import re\n",
    "\n",
    "addresses = ['1 Infinity Loop, Balga, 6061, WA',\n",
    "            '986 Serpentine Meander, Gosnells, 6110, WA',\n",
    "            '80 Anaconda Drive, Gosnells, 6110, WA',\n",
    "            '10 Salazar Slytherin St, Hogwarts, 3666, VIC',\n",
    "            '10a Cobra St, Dubbo, 2830, NSW',\n",
    "            '100 Cobra St, Secret Harbour, 6830, WA'\n",
    "            '']\n",
    "\n",
    "# Lets create a pattern and extract some information with it\n",
    "reg = re.compile(r'''(\n",
    "                 (\\d+\\w?) # house number\n",
    "                 \\s+\n",
    "                 (\\w+\\s\\w+\\s?\\w+) #street address\n",
    "                 ,\\s+\n",
    "                 (\\w+\\s?\\w+) #Locality\n",
    "                 ,\\s+\n",
    "                 (\\d+) #Area Code\n",
    "                 ,\\s+\n",
    "                 (\\w+) #State\n",
    "                 )''', re.VERBOSE)\n",
    "\n",
    "############ No need to change below code #############\n",
    "\n",
    "for address in addresses:         # For each of the addresses\n",
    "    result = reg.match(address)   # Search for the match and return the matching groups\n",
    "    if result:                    # If it didn't match, this will be empty\n",
    "        print('Input string: ', address)\n",
    "        print('Match positions: ', result.start(), result.end()) # Start and end pos of match\n",
    "        print('Matching groups: ', result.groups())              # Groups that were matched\n",
    "        print()\n"
   ]
  },
  {
   "cell_type": "markdown",
   "metadata": {
    "collapsed": true
   },
   "source": [
    "*** Second part of the test:*** put the input data into a Pandas DataFrame... Note: it won't work until you have the matching output from the regular expression"
   ]
  },
  {
   "cell_type": "code",
   "execution_count": 21,
   "metadata": {},
   "outputs": [
    {
     "name": "stdout",
     "output_type": "stream",
     "text": [
      "  Number                Street          Suburb Postcode State\n",
      "0      1         Infinity Loop           Balga     6061    WA\n",
      "1    986    Serpentine Meander        Gosnells     6110    WA\n",
      "2     80        Anaconda Drive        Gosnells     6110    WA\n",
      "3     10  Salazar Slytherin St        Hogwarts     3666   VIC\n",
      "4    10a              Cobra St           Dubbo     2830   NSW\n",
      "5    100              Cobra St  Secret Harbour     6830    WA\n"
     ]
    }
   ],
   "source": [
    "import pandas as pd\n",
    "\n",
    "df = pd.DataFrame(columns=['Number', 'Street', 'Suburb', 'Postcode', 'State'])\n",
    "\n",
    "counter = 0\n",
    "for address in addresses:\n",
    "    result = reg.match(address)   # searches for the match and returns the matching group\n",
    "    if result:\n",
    "        df.loc[counter]  = (result.groups()[1:])     # Uncomment this line once the regex is ready\n",
    "        counter += 1\n",
    "print(df)"
   ]
  },
  {
   "cell_type": "code",
   "execution_count": 6,
   "metadata": {},
   "outputs": [
    {
     "ename": "SyntaxError",
     "evalue": "invalid syntax (<ipython-input-6-ecce37116f33>, line 1)",
     "output_type": "error",
     "traceback": [
      "\u001b[0;36m  File \u001b[0;32m\"<ipython-input-6-ecce37116f33>\"\u001b[0;36m, line \u001b[0;32m1\u001b[0m\n\u001b[0;31m    *** Third part of the test: ***Now print out the descriptive information about the states\u001b[0m\n\u001b[0m     ^\u001b[0m\n\u001b[0;31mSyntaxError\u001b[0m\u001b[0;31m:\u001b[0m invalid syntax\n"
     ]
    }
   ],
   "source": [
    "*** Third part of the test: ***Now print out the descriptive information about the states "
   ]
  },
  {
   "cell_type": "code",
   "execution_count": 35,
   "metadata": {},
   "outputs": [
    {
     "data": {
      "text/plain": [
       "count      6\n",
       "unique     3\n",
       "top       WA\n",
       "freq       4\n",
       "Name: State, dtype: object"
      ]
     },
     "execution_count": 35,
     "metadata": {},
     "output_type": "execute_result"
    }
   ],
   "source": [
    "# Description of state column\n",
    "df['State'].describe()"
   ]
  },
  {
   "cell_type": "markdown",
   "metadata": {
    "collapsed": true
   },
   "source": [
    "# Don't forget to zip and submit your files!!!"
   ]
  },
  {
   "cell_type": "code",
   "execution_count": null,
   "metadata": {},
   "outputs": [],
   "source": []
  }
 ],
 "metadata": {
  "anaconda-cloud": {},
  "kernelspec": {
   "display_name": "Python 3",
   "language": "python",
   "name": "python3"
  },
  "language_info": {
   "codemirror_mode": {
    "name": "ipython",
    "version": 3
   },
   "file_extension": ".py",
   "mimetype": "text/x-python",
   "name": "python",
   "nbconvert_exporter": "python",
   "pygments_lexer": "ipython3",
   "version": "3.6.8"
  }
 },
 "nbformat": 4,
 "nbformat_minor": 1
}
